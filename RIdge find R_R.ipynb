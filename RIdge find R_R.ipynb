{
 "cells": [
  {
   "cell_type": "code",
   "execution_count": null,
   "id": "c5471cdb-aa8f-472a-b84f-5104c3eda12f",
   "metadata": {},
   "outputs": [],
   "source": [
    "import os\n",
    "\n",
    "os.chdir('/home/jupyter-choi/')\n",
    "print(os.getcwd())"
   ]
  },
  {
   "cell_type": "code",
   "execution_count": 2,
   "id": "ff446ffc-a0c1-4bf7-88ea-da519aca4532",
   "metadata": {},
   "outputs": [],
   "source": [
    "import numpy as np\n",
    "import os\n",
    "import matplotlib.pyplot as plt\n",
    "import neurokit2 as nk\n",
    "from sklearn.model_selection import train_test_split\n",
    "from sklearn.metrics import mean_squared_error, r2_score\n",
    "from math import sqrt\n",
    "from sklearn.linear_model import RidgeCV\n",
    "import autosklearn.regression\n",
    "\n",
    "def flatten_data(data):\n",
    "    return data.reshape(data.shape[0], -1)\n",
    "\n",
    "def calculate_performance_metrics(y_true, y_pred):\n",
    "    mse = mean_squared_error(y_true, y_pred)\n",
    "    rmse = sqrt(mse)\n",
    "    r2 = r2_score(y_true, y_pred)\n",
    "    return mse, rmse, r2\n",
    "\n",
    "def plot_original_vs_predicted(original, predicted, num_samples=5, sampling_rate=250):\n",
    "    plt.figure(figsize=(20, 10))\n",
    "    for i in range(min(num_samples, len(original))):\n",
    "        cleaned_original = nk.ecg_clean(original[i], sampling_rate=sampling_rate, method='neurokit')\n",
    "        cleaned_predicted = nk.ecg_clean(predicted[i], sampling_rate=sampling_rate, method='neurokit')\n",
    "\n",
    "        plt.subplot(num_samples, 2, 2*i + 1)\n",
    "        plt.plot(cleaned_original, label=\"Original\")\n",
    "        plt.title(f\"Original 2nd Feature Sample {i+1}\")\n",
    "        plt.legend()\n",
    "\n",
    "        plt.subplot(num_samples, 2, 2*i + 2)\n",
    "        plt.plot(cleaned_predicted, label=\"Predicted\")\n",
    "        plt.title(f\"Predicted 3rd Feature Sample {i+1}\")\n",
    "        plt.legend()\n",
    "\n",
    "    plt.tight_layout()\n",
    "    plt.show()\n",
    "\n",
    "def load_npy_data(folder_path):\n",
    "    X_list, y_list = [], []\n",
    "    processed_files = set()\n",
    "\n",
    "    for file_name in os.listdir(folder_path):\n",
    "        if file_name.startswith('wave') and file_name.endswith('.npy') and file_name not in processed_files:\n",
    "            file_path = os.path.join(folder_path, file_name)\n",
    "            data = np.load(file_path)\n",
    "            processed_files.add(file_name)\n",
    "\n",
    "            if data.shape == (13, 5000):\n",
    "                data = data[:12, :]\n",
    "                X_list.append(data[0, :])  # 0번 특성을 입력으로 사용\n",
    "                y_list.append(data[1, :])  # 1번 특성을 출력으로 사용\n",
    "\n",
    "    return np.array(X_list), np.array(y_list)\n",
    "\n",
    "\n",
    "folder_path = \"hw/data_No20000_ALL/data\"\n",
    "X, y = load_npy_data(folder_path)\n"
   ]
  },
  {
   "cell_type": "code",
   "execution_count": 3,
   "id": "ee64accf-cf31-4615-ada4-8f49652665e1",
   "metadata": {},
   "outputs": [
    {
     "name": "stdout",
     "output_type": "stream",
     "text": [
      "(40000, 5000)\n"
     ]
    }
   ],
   "source": [
    "print(X.shape)"
   ]
  },
  {
   "cell_type": "code",
   "execution_count": 4,
   "id": "9f2dfff4-fcce-4025-97cd-b54480015e0e",
   "metadata": {},
   "outputs": [
    {
     "name": "stdout",
     "output_type": "stream",
     "text": [
      "(40000, 5000)\n"
     ]
    }
   ],
   "source": [
    "print(y.shape)"
   ]
  },
  {
   "cell_type": "code",
   "execution_count": 5,
   "id": "41db9a66-d2a0-412d-baff-415024e586ae",
   "metadata": {},
   "outputs": [],
   "source": [
    "# def find_pqrst_and_calculate_hr(signal, sr):\n",
    "#     try:\n",
    "#         signals = signal.reshape(-1,)\n",
    "#         signals = nk.ecg_clean(signals, sr, method='neurokit')\n",
    "#         _, rpeaks = nk.ecg_peaks(signals, sampling_rate=sr)\n",
    "#         _, waves_peak = nk.ecg_delineate(signals, rpeaks, sampling_rate=sr, method='peak')\n",
    "\n",
    "#         r_peaks = np.array(rpeaks['ECG_R_Peaks'])\n",
    "#         r_peaks = r_peaks[~np.isnan(r_peaks)].astype('int')\n",
    "\n",
    "#         # p_peaks, q_peaks, s_peaks, t_peaks 정의\n",
    "#         p_peaks = np.array(waves_peak['ECG_P_Peaks'])\n",
    "#         q_peaks = np.array(waves_peak['ECG_Q_Peaks'])\n",
    "#         s_peaks = np.array(waves_peak['ECG_S_Peaks'])\n",
    "#         t_peaks = np.array(waves_peak['ECG_T_Peaks'])\n",
    "\n",
    "#         # NaN 값 필터링\n",
    "#         p_peaks = p_peaks[~np.isnan(p_peaks)].astype('int')\n",
    "#         q_peaks = q_peaks[~np.isnan(q_peaks)].astype('int')\n",
    "#         s_peaks = s_peaks[~np.isnan(s_peaks)].astype('int')\n",
    "#         t_peaks = t_peaks[~np.isnan(t_peaks)].astype('int')\n",
    "\n",
    "#         if len(r_peaks) < 2:\n",
    "#             return [], [], [], [], [], np.nan\n",
    "\n",
    "#         # RR 간격 계산\n",
    "#         rr_intervals = calculate_rr_intervals(r_peaks, sr)\n",
    "#         if len(rr_intervals) == 0 or np.mean(rr_intervals) == 0:\n",
    "#             return [], [], [], [], [], np.nan\n",
    "\n",
    "#         hr = 60 / np.mean(rr_intervals)\n",
    "#         return p_peaks, q_peaks, r_peaks, s_peaks, t_peaks, hr\n",
    "\n",
    "#     except Exception as e:\n",
    "#         print(f\"Error: {e}\")\n",
    "#         return [], [], [], [], [], np.nan"
   ]
  },
  {
   "cell_type": "code",
   "execution_count": 18,
   "id": "ee9cd953-5322-4048-b502-5c843f7ee605",
   "metadata": {},
   "outputs": [
    {
     "ename": "KeyboardInterrupt",
     "evalue": "",
     "output_type": "error",
     "traceback": [
      "\u001b[0;31m---------------------------------------------------------------------------\u001b[0m",
      "\u001b[0;31mKeyboardInterrupt\u001b[0m                         Traceback (most recent call last)",
      "Cell \u001b[0;32mIn[26], line 138\u001b[0m\n\u001b[1;32m    135\u001b[0m folder_path \u001b[38;5;241m=\u001b[39m \u001b[38;5;124m\"\u001b[39m\u001b[38;5;124mhw/data_No20000_ALL/data\u001b[39m\u001b[38;5;124m\"\u001b[39m\n\u001b[1;32m    137\u001b[0m \u001b[38;5;66;03m# ECG 데이터 로드\u001b[39;00m\n\u001b[0;32m--> 138\u001b[0m X, y \u001b[38;5;241m=\u001b[39m \u001b[43mload_npy_data\u001b[49m\u001b[43m(\u001b[49m\u001b[43mfolder_path\u001b[49m\u001b[43m)\u001b[49m\n\u001b[1;32m    140\u001b[0m \u001b[38;5;66;03m# Split the data into training, validation, and test sets\u001b[39;00m\n\u001b[1;32m    141\u001b[0m X_train, X_temp, y_train, y_temp \u001b[38;5;241m=\u001b[39m train_test_split(X, y, test_size\u001b[38;5;241m=\u001b[39m\u001b[38;5;241m0.2\u001b[39m, random_state\u001b[38;5;241m=\u001b[39m\u001b[38;5;241m42\u001b[39m)\n",
      "Cell \u001b[0;32mIn[26], line 36\u001b[0m, in \u001b[0;36mload_npy_data\u001b[0;34m(folder_path)\u001b[0m\n\u001b[1;32m     33\u001b[0m _, rpeaks \u001b[38;5;241m=\u001b[39m nk\u001b[38;5;241m.\u001b[39mecg_peaks(signal, sampling_rate\u001b[38;5;241m=\u001b[39msr)\n\u001b[1;32m     35\u001b[0m \u001b[38;5;28;01mtry\u001b[39;00m:\n\u001b[0;32m---> 36\u001b[0m     _, waves_peak \u001b[38;5;241m=\u001b[39m \u001b[43mnk\u001b[49m\u001b[38;5;241;43m.\u001b[39;49m\u001b[43mecg_delineate\u001b[49m\u001b[43m(\u001b[49m\u001b[43msignal\u001b[49m\u001b[43m,\u001b[49m\u001b[43m \u001b[49m\u001b[43mrpeaks\u001b[49m\u001b[43m,\u001b[49m\u001b[43m \u001b[49m\u001b[43msampling_rate\u001b[49m\u001b[38;5;241;43m=\u001b[39;49m\u001b[43msr\u001b[49m\u001b[43m,\u001b[49m\u001b[43m \u001b[49m\u001b[43mmethod\u001b[49m\u001b[38;5;241;43m=\u001b[39;49m\u001b[38;5;124;43m'\u001b[39;49m\u001b[38;5;124;43mpeak\u001b[39;49m\u001b[38;5;124;43m'\u001b[39;49m\u001b[43m)\u001b[49m\n\u001b[1;32m     37\u001b[0m \u001b[38;5;28;01mexcept\u001b[39;00m \u001b[38;5;167;01mValueError\u001b[39;00m \u001b[38;5;28;01mas\u001b[39;00m e:\n\u001b[1;32m     38\u001b[0m     \u001b[38;5;28mprint\u001b[39m(\u001b[38;5;124mf\u001b[39m\u001b[38;5;124m\"\u001b[39m\u001b[38;5;124mSkipping data due to error: \u001b[39m\u001b[38;5;132;01m{\u001b[39;00me\u001b[38;5;132;01m}\u001b[39;00m\u001b[38;5;124m\"\u001b[39m)\n",
      "File \u001b[0;32m~/.conda/envs/hyeon/lib/python3.9/site-packages/neurokit2/ecg/ecg_delineate.py:156\u001b[0m, in \u001b[0;36mecg_delineate\u001b[0;34m(ecg_cleaned, rpeaks, sampling_rate, method, show, show_type, check, **kwargs)\u001b[0m\n\u001b[1;32m    154\u001b[0m method \u001b[38;5;241m=\u001b[39m method\u001b[38;5;241m.\u001b[39mlower()  \u001b[38;5;66;03m# remove capitalised letters\u001b[39;00m\n\u001b[1;32m    155\u001b[0m \u001b[38;5;28;01mif\u001b[39;00m method \u001b[38;5;129;01min\u001b[39;00m [\u001b[38;5;124m\"\u001b[39m\u001b[38;5;124mpeak\u001b[39m\u001b[38;5;124m\"\u001b[39m, \u001b[38;5;124m\"\u001b[39m\u001b[38;5;124mpeaks\u001b[39m\u001b[38;5;124m\"\u001b[39m, \u001b[38;5;124m\"\u001b[39m\u001b[38;5;124mderivative\u001b[39m\u001b[38;5;124m\"\u001b[39m, \u001b[38;5;124m\"\u001b[39m\u001b[38;5;124mgradient\u001b[39m\u001b[38;5;124m\"\u001b[39m]:\n\u001b[0;32m--> 156\u001b[0m     waves \u001b[38;5;241m=\u001b[39m \u001b[43m_ecg_delineator_peak\u001b[49m\u001b[43m(\u001b[49m\n\u001b[1;32m    157\u001b[0m \u001b[43m        \u001b[49m\u001b[43mecg_cleaned\u001b[49m\u001b[43m,\u001b[49m\u001b[43m \u001b[49m\u001b[43mrpeaks\u001b[49m\u001b[38;5;241;43m=\u001b[39;49m\u001b[43mrpeaks\u001b[49m\u001b[43m,\u001b[49m\u001b[43m \u001b[49m\u001b[43msampling_rate\u001b[49m\u001b[38;5;241;43m=\u001b[39;49m\u001b[43msampling_rate\u001b[49m\n\u001b[1;32m    158\u001b[0m \u001b[43m    \u001b[49m\u001b[43m)\u001b[49m\n\u001b[1;32m    159\u001b[0m \u001b[38;5;28;01melif\u001b[39;00m method \u001b[38;5;129;01min\u001b[39;00m [\u001b[38;5;124m\"\u001b[39m\u001b[38;5;124mcwt\u001b[39m\u001b[38;5;124m\"\u001b[39m, \u001b[38;5;124m\"\u001b[39m\u001b[38;5;124mcontinuous wavelet transform\u001b[39m\u001b[38;5;124m\"\u001b[39m]:\n\u001b[1;32m    160\u001b[0m     waves \u001b[38;5;241m=\u001b[39m _ecg_delineator_cwt(\n\u001b[1;32m    161\u001b[0m         ecg_cleaned, rpeaks\u001b[38;5;241m=\u001b[39mrpeaks, sampling_rate\u001b[38;5;241m=\u001b[39msampling_rate\n\u001b[1;32m    162\u001b[0m     )\n",
      "File \u001b[0;32m~/.conda/envs/hyeon/lib/python3.9/site-packages/neurokit2/ecg/ecg_delineate.py:978\u001b[0m, in \u001b[0;36m_ecg_delineator_peak\u001b[0;34m(ecg, rpeaks, sampling_rate)\u001b[0m\n\u001b[1;32m    972\u001b[0m R \u001b[38;5;241m=\u001b[39m heartbeat\u001b[38;5;241m.\u001b[39mindex\u001b[38;5;241m.\u001b[39mget_loc(\n\u001b[1;32m    973\u001b[0m     np\u001b[38;5;241m.\u001b[39mmin(heartbeat\u001b[38;5;241m.\u001b[39mindex\u001b[38;5;241m.\u001b[39mvalues[heartbeat\u001b[38;5;241m.\u001b[39mindex\u001b[38;5;241m.\u001b[39mvalues \u001b[38;5;241m>\u001b[39m \u001b[38;5;241m0\u001b[39m])\n\u001b[1;32m    974\u001b[0m )\n\u001b[1;32m    976\u001b[0m \u001b[38;5;66;03m# Peaks ------\u001b[39;00m\n\u001b[1;32m    977\u001b[0m \u001b[38;5;66;03m# Q wave\u001b[39;00m\n\u001b[0;32m--> 978\u001b[0m Q_index, Q \u001b[38;5;241m=\u001b[39m \u001b[43m_ecg_delineator_peak_Q\u001b[49m\u001b[43m(\u001b[49m\u001b[43mrpeak\u001b[49m\u001b[43m,\u001b[49m\u001b[43m \u001b[49m\u001b[43mheartbeat\u001b[49m\u001b[43m,\u001b[49m\u001b[43m \u001b[49m\u001b[43mR\u001b[49m\u001b[43m)\u001b[49m\n\u001b[1;32m    979\u001b[0m Q_list\u001b[38;5;241m.\u001b[39mappend(Q_index)\n\u001b[1;32m    981\u001b[0m \u001b[38;5;66;03m# P wave\u001b[39;00m\n",
      "File \u001b[0;32m~/.conda/envs/hyeon/lib/python3.9/site-packages/neurokit2/ecg/ecg_delineate.py:1018\u001b[0m, in \u001b[0;36m_ecg_delineator_peak_Q\u001b[0;34m(rpeak, heartbeat, R)\u001b[0m\n\u001b[1;32m   1014\u001b[0m \u001b[38;5;28;01mdef\u001b[39;00m \u001b[38;5;21m_ecg_delineator_peak_Q\u001b[39m(rpeak, heartbeat, R):\n\u001b[1;32m   1015\u001b[0m     segment \u001b[38;5;241m=\u001b[39m heartbeat\u001b[38;5;241m.\u001b[39mloc[:\u001b[38;5;241m0\u001b[39m]  \u001b[38;5;66;03m# Select left hand side\u001b[39;00m\n\u001b[1;32m   1017\u001b[0m     Q \u001b[38;5;241m=\u001b[39m signal_findpeaks(\n\u001b[0;32m-> 1018\u001b[0m         \u001b[38;5;241;43m-\u001b[39;49m\u001b[38;5;241;43m1\u001b[39;49m\u001b[43m \u001b[49m\u001b[38;5;241;43m*\u001b[39;49m\u001b[43m \u001b[49m\u001b[43msegment\u001b[49m\u001b[43m[\u001b[49m\u001b[38;5;124;43m\"\u001b[39;49m\u001b[38;5;124;43mSignal\u001b[39;49m\u001b[38;5;124;43m\"\u001b[39;49m\u001b[43m]\u001b[49m,\n\u001b[1;32m   1019\u001b[0m         height_min\u001b[38;5;241m=\u001b[39m\u001b[38;5;241m0.05\u001b[39m \u001b[38;5;241m*\u001b[39m (segment[\u001b[38;5;124m\"\u001b[39m\u001b[38;5;124mSignal\u001b[39m\u001b[38;5;124m\"\u001b[39m]\u001b[38;5;241m.\u001b[39mmax() \u001b[38;5;241m-\u001b[39m segment[\u001b[38;5;124m\"\u001b[39m\u001b[38;5;124mSignal\u001b[39m\u001b[38;5;124m\"\u001b[39m]\u001b[38;5;241m.\u001b[39mmin()),\n\u001b[1;32m   1020\u001b[0m     )\n\u001b[1;32m   1021\u001b[0m     \u001b[38;5;28;01mif\u001b[39;00m \u001b[38;5;28mlen\u001b[39m(Q[\u001b[38;5;124m\"\u001b[39m\u001b[38;5;124mPeaks\u001b[39m\u001b[38;5;124m\"\u001b[39m]) \u001b[38;5;241m==\u001b[39m \u001b[38;5;241m0\u001b[39m:\n\u001b[1;32m   1022\u001b[0m         \u001b[38;5;28;01mreturn\u001b[39;00m np\u001b[38;5;241m.\u001b[39mnan, \u001b[38;5;28;01mNone\u001b[39;00m\n",
      "File \u001b[0;32m~/.conda/envs/hyeon/lib/python3.9/site-packages/pandas/core/ops/common.py:76\u001b[0m, in \u001b[0;36m_unpack_zerodim_and_defer.<locals>.new_method\u001b[0;34m(self, other)\u001b[0m\n\u001b[1;32m     72\u001b[0m             \u001b[38;5;28;01mreturn\u001b[39;00m \u001b[38;5;28mNotImplemented\u001b[39m\n\u001b[1;32m     74\u001b[0m other \u001b[38;5;241m=\u001b[39m item_from_zerodim(other)\n\u001b[0;32m---> 76\u001b[0m \u001b[38;5;28;01mreturn\u001b[39;00m \u001b[43mmethod\u001b[49m\u001b[43m(\u001b[49m\u001b[38;5;28;43mself\u001b[39;49m\u001b[43m,\u001b[49m\u001b[43m \u001b[49m\u001b[43mother\u001b[49m\u001b[43m)\u001b[49m\n",
      "File \u001b[0;32m~/.conda/envs/hyeon/lib/python3.9/site-packages/pandas/core/arraylike.py:206\u001b[0m, in \u001b[0;36mOpsMixin.__rmul__\u001b[0;34m(self, other)\u001b[0m\n\u001b[1;32m    204\u001b[0m \u001b[38;5;129m@unpack_zerodim_and_defer\u001b[39m(\u001b[38;5;124m\"\u001b[39m\u001b[38;5;124m__rmul__\u001b[39m\u001b[38;5;124m\"\u001b[39m)\n\u001b[1;32m    205\u001b[0m \u001b[38;5;28;01mdef\u001b[39;00m \u001b[38;5;21m__rmul__\u001b[39m(\u001b[38;5;28mself\u001b[39m, other):\n\u001b[0;32m--> 206\u001b[0m     \u001b[38;5;28;01mreturn\u001b[39;00m \u001b[38;5;28;43mself\u001b[39;49m\u001b[38;5;241;43m.\u001b[39;49m\u001b[43m_arith_method\u001b[49m\u001b[43m(\u001b[49m\u001b[43mother\u001b[49m\u001b[43m,\u001b[49m\u001b[43m \u001b[49m\u001b[43mroperator\u001b[49m\u001b[38;5;241;43m.\u001b[39;49m\u001b[43mrmul\u001b[49m\u001b[43m)\u001b[49m\n",
      "File \u001b[0;32m~/.conda/envs/hyeon/lib/python3.9/site-packages/pandas/core/series.py:5815\u001b[0m, in \u001b[0;36mSeries._arith_method\u001b[0;34m(self, other, op)\u001b[0m\n\u001b[1;32m   5813\u001b[0m \u001b[38;5;28;01mdef\u001b[39;00m \u001b[38;5;21m_arith_method\u001b[39m(\u001b[38;5;28mself\u001b[39m, other, op):\n\u001b[1;32m   5814\u001b[0m     \u001b[38;5;28mself\u001b[39m, other \u001b[38;5;241m=\u001b[39m \u001b[38;5;28mself\u001b[39m\u001b[38;5;241m.\u001b[39m_align_for_op(other)\n\u001b[0;32m-> 5815\u001b[0m     \u001b[38;5;28;01mreturn\u001b[39;00m \u001b[43mbase\u001b[49m\u001b[38;5;241;43m.\u001b[39;49m\u001b[43mIndexOpsMixin\u001b[49m\u001b[38;5;241;43m.\u001b[39;49m\u001b[43m_arith_method\u001b[49m\u001b[43m(\u001b[49m\u001b[38;5;28;43mself\u001b[39;49m\u001b[43m,\u001b[49m\u001b[43m \u001b[49m\u001b[43mother\u001b[49m\u001b[43m,\u001b[49m\u001b[43m \u001b[49m\u001b[43mop\u001b[49m\u001b[43m)\u001b[49m\n",
      "File \u001b[0;32m~/.conda/envs/hyeon/lib/python3.9/site-packages/pandas/core/base.py:1373\u001b[0m, in \u001b[0;36mIndexOpsMixin._arith_method\u001b[0;34m(self, other, op)\u001b[0m\n\u001b[1;32m   1370\u001b[0m \u001b[38;5;28;01mdef\u001b[39;00m \u001b[38;5;21m_arith_method\u001b[39m(\u001b[38;5;28mself\u001b[39m, other, op):\n\u001b[1;32m   1371\u001b[0m     res_name \u001b[38;5;241m=\u001b[39m ops\u001b[38;5;241m.\u001b[39mget_op_result_name(\u001b[38;5;28mself\u001b[39m, other)\n\u001b[0;32m-> 1373\u001b[0m     lvalues \u001b[38;5;241m=\u001b[39m \u001b[38;5;28;43mself\u001b[39;49m\u001b[38;5;241;43m.\u001b[39;49m\u001b[43m_values\u001b[49m\n\u001b[1;32m   1374\u001b[0m     rvalues \u001b[38;5;241m=\u001b[39m extract_array(other, extract_numpy\u001b[38;5;241m=\u001b[39m\u001b[38;5;28;01mTrue\u001b[39;00m, extract_range\u001b[38;5;241m=\u001b[39m\u001b[38;5;28;01mTrue\u001b[39;00m)\n\u001b[1;32m   1375\u001b[0m     rvalues \u001b[38;5;241m=\u001b[39m ops\u001b[38;5;241m.\u001b[39mmaybe_prepare_scalar_for_op(rvalues, lvalues\u001b[38;5;241m.\u001b[39mshape)\n",
      "File \u001b[0;32m~/.conda/envs/hyeon/lib/python3.9/site-packages/pandas/core/series.py:782\u001b[0m, in \u001b[0;36mSeries._values\u001b[0;34m(self)\u001b[0m\n\u001b[1;32m    750\u001b[0m \u001b[38;5;129m@property\u001b[39m\n\u001b[1;32m    751\u001b[0m \u001b[38;5;28;01mdef\u001b[39;00m \u001b[38;5;21m_values\u001b[39m(\u001b[38;5;28mself\u001b[39m):\n\u001b[1;32m    752\u001b[0m \u001b[38;5;250m    \u001b[39m\u001b[38;5;124;03m\"\"\"\u001b[39;00m\n\u001b[1;32m    753\u001b[0m \u001b[38;5;124;03m    Return the internal repr of this data (defined by Block.interval_values).\u001b[39;00m\n\u001b[1;32m    754\u001b[0m \u001b[38;5;124;03m    This are the values as stored in the Block (ndarray or ExtensionArray\u001b[39;00m\n\u001b[0;32m   (...)\u001b[0m\n\u001b[1;32m    780\u001b[0m \n\u001b[1;32m    781\u001b[0m \u001b[38;5;124;03m    \"\"\"\u001b[39;00m\n\u001b[0;32m--> 782\u001b[0m     \u001b[38;5;28;01mreturn\u001b[39;00m \u001b[38;5;28;43mself\u001b[39;49m\u001b[38;5;241;43m.\u001b[39;49m\u001b[43m_mgr\u001b[49m\u001b[38;5;241;43m.\u001b[39;49m\u001b[43minternal_values\u001b[49m()\n",
      "\u001b[0;31mKeyboardInterrupt\u001b[0m: "
     ]
    }
   ],
   "source": [
    "import numpy as np\n",
    "import os\n",
    "import matplotlib.pyplot as plt\n",
    "import neurokit2 as nk\n",
    "from sklearn.utils import shuffle\n",
    "from sklearn.linear_model import RidgeCV\n",
    "from sklearn.metrics import mean_squared_error, r2_score\n",
    "from sklearn.model_selection import train_test_split\n",
    "\n",
    "# ECG 데이터를 로드하는 함수 정의\n",
    "def load_npy_data(folder_path):\n",
    "    X_list, y_list = [], []\n",
    "    processed_files = set()\n",
    "\n",
    "    for file_name in os.listdir(folder_path):\n",
    "        if file_name.startswith('wave') and file_name.endswith('.npy') and file_name not in processed_files:\n",
    "            file_path = os.path.join(folder_path, file_name)\n",
    "            data = np.load(file_path)\n",
    "            processed_files.add(file_name)\n",
    "\n",
    "            if data.shape == (13, 5000):\n",
    "                data = data[:12, :]\n",
    "                signal = data[0, :]\n",
    "                sr = 500\n",
    "                \n",
    "                # Check for NaN values in the signal\n",
    "                if np.isnan(signal).any():\n",
    "                    continue\n",
    "\n",
    "                # ECG 신호 전처리\n",
    "                signal = signal.reshape(-1,)\n",
    "                signal = nk.ecg_clean(signal, sr, method='neurokit')\n",
    "                _, rpeaks = nk.ecg_peaks(signal, sampling_rate=sr)\n",
    "                \n",
    "                try:\n",
    "                    _, waves_peak = nk.ecg_delineate(signal, rpeaks, sampling_rate=sr, method='peak')\n",
    "                except ValueError as e:\n",
    "                    print(f\"Skipping data due to error: {e}\")\n",
    "                    continue\n",
    "\n",
    "                r_peaks = np.array(rpeaks['ECG_R_Peaks'])\n",
    "                r_peaks = r_peaks[~np.isnan(r_peaks)].astype('int')\n",
    "\n",
    "                # p_peaks, q_peaks, s_peaks, t_peaks 정의\n",
    "                p_peaks = np.array(waves_peak['ECG_P_Peaks'])\n",
    "                q_peaks = np.array(waves_peak['ECG_Q_Peaks'])\n",
    "                s_peaks = np.array(waves_peak['ECG_S_Peaks'])\n",
    "                t_peaks = np.array(waves_peak['ECG_T_Peaks'])\n",
    "\n",
    "                # NaN 값 필터링\n",
    "                p_peaks = p_peaks[~np.isnan(p_peaks)].astype('int')\n",
    "                q_peaks = q_peaks[~np.isnan(q_peaks)].astype('int')\n",
    "                s_peaks = s_peaks[~np.isnan(s_peaks)].astype('int')\n",
    "                t_peaks = t_peaks[~np.isnan(t_peaks)].astype('int')\n",
    "\n",
    "                if len(r_peaks) < 2:\n",
    "                    continue  # 이 경우 데이터를 스킵하고 다음 데이터로 이동\n",
    "\n",
    "                # RR 간격 계산\n",
    "                rr_intervals = calculate_rr_intervals(r_peaks, sr)\n",
    "                if len(rr_intervals) == 0 or np.mean(rr_intervals) == 0:\n",
    "                    continue  # 이 경우 데이터를 스킵하고 다음 데이터로 이동\n",
    "\n",
    "                hr = 60 / np.mean(rr_intervals)\n",
    "\n",
    "                # 0번과 1번 특성을 사용\n",
    "                X_list.append(np.stack((signal, data[0, :]), axis=0))\n",
    "                y_list.append(data[1, :])  # 1번 특성을 출력으로 사용\n",
    "\n",
    "    return np.array(X_list), np.array(y_list)\n",
    "\n",
    "\n",
    "def plot_original_vs_predicted(original, predicted, num_samples=5, sampling_rate=250):\n",
    "    plt.figure(figsize=(20, 10))\n",
    "    for i in range(min(num_samples, len(original))):\n",
    "        cleaned_original = nk.ecg_clean(original[i], sampling_rate=sampling_rate, method='neurokit')\n",
    "        cleaned_predicted = nk.ecg_clean(predicted[i], sampling_rate=sampling_rate, method='neurokit')\n",
    "\n",
    "        plt.subplot(num_samples, 2, 2*i + 1)\n",
    "        plt.plot(cleaned_original, label=\"Original\")\n",
    "        plt.title(f\"Original 2nd Feature Sample {i+1}\")\n",
    "        plt.legend()\n",
    "\n",
    "        plt.subplot(num_samples, 2, 2*i + 2)\n",
    "        plt.plot(cleaned_predicted, label=\"Predicted\")\n",
    "        plt.title(f\"Predicted 3rd Feature Sample {i+1}\")\n",
    "        plt.legend()\n",
    "\n",
    "    plt.tight_layout()\n",
    "    plt.show()\n",
    "\n",
    "\n",
    "def calculate_rr_intervals(r_peaks, sr):\n",
    "    rr_intervals = np.diff(r_peaks) / sr  # R 피크 간의 시간 간격을 초 단위로 계산\n",
    "    return rr_intervals\n",
    "\n",
    "def find_pqrst_and_calculate_hr(signal, sr):\n",
    "    try:\n",
    "        signals = signal.reshape(-1,)\n",
    "        signals = nk.ecg_clean(signals, sr, method='neurokit')\n",
    "        _, rpeaks = nk.ecg_peaks(signals, sampling_rate=sr)\n",
    "        _, waves_peak = nk.ecg_delineate(signals, rpeaks, sampling_rate=sr, method='peak')\n",
    "\n",
    "        r_peaks = np.array(rpeaks['ECG_R_Peaks'])\n",
    "        r_peaks = r_peaks[~np.isnan(r_peaks)].astype('int')\n",
    "\n",
    "        # p_peaks, q_peaks, s_peaks, t_peaks 정의\n",
    "        p_peaks = np.array(waves_peak['ECG_P_Peaks'])\n",
    "        q_peaks = np.array(waves_peak['ECG_Q_Peaks'])\n",
    "        s_peaks = np.array(waves_peak['ECG_S_Peaks'])\n",
    "        t_peaks = np.array(waves_peak['ECG_T_Peaks'])\n",
    "\n",
    "        # NaN 값 필터링\n",
    "        p_peaks = p_peaks[~np.isnan(p_peaks)].astype('int')\n",
    "        q_peaks = q_peaks[~np.isnan(q_peaks)].astype('int')\n",
    "        s_peaks = s_peaks[~np.isnan(s_peaks)].astype('int')\n",
    "        t_peaks = t_peaks[~np.isnan(t_peaks)].astype('int')\n",
    "\n",
    "        if len(r_peaks) < 2:\n",
    "            return [], [], [], [], [], np.nan\n",
    "\n",
    "        # RR 간격 계산\n",
    "        rr_intervals = calculate_rr_intervals(r_peaks, sr)\n",
    "        if len(rr_intervals) == 0 or np.mean(rr_intervals) == 0:\n",
    "            return [], [], [], [], [], np.nan\n",
    "\n",
    "        hr = 60 / np.mean(rr_intervals)\n",
    "        return p_peaks, q_peaks, r_peaks, s_peaks, t_peaks, hr\n",
    "\n",
    "    except Exception as e:\n",
    "        print(f\"Error: {e}\")\n",
    "        return [], [], [], [], [], np.nan\n",
    "\n",
    "# 데이터 폴더 경로\n",
    "folder_path = \"hw/data_No20000_ALL/data\"\n",
    "\n",
    "# ECG 데이터 로드\n",
    "X, y = load_npy_data(folder_path)\n",
    "\n",
    "# Split the data into training, validation, and test sets\n",
    "X_train, X_temp, y_train, y_temp = train_test_split(X, y, test_size=0.2, random_state=42)\n",
    "X_val, X_test, y_val, y_test = train_test_split(X_temp, y_temp, test_size=0.5, random_state=42)\n",
    "\n",
    "# Flatten the target data\n",
    "y_train_flat, y_val_flat, y_test_flat = y_train[:, 0], y_val[:, 0], y_test[:, 0]\n",
    "\n",
    "# Define alpha values for RidgeCV\n",
    "alpha_values = [0.1, 1, 10, 100, 1000, 10000, 100000, 10000000, 10000000000, 10000000000, 1000000000000, 100000000000000]\n",
    "\n",
    "# Train the RidgeCV model\n",
    "ridge_cv_model = RidgeCV(alphas=alpha_values)\n",
    "ridge_cv_model.fit(X_train, y_train_single_output)  # y_train_single_output 사용\n",
    "\n",
    "# Make predictions on training, validation, and test sets\n",
    "ridge_cv_predictions = {\n",
    "    \"train\": ridge_cv_model.predict(X_train),\n",
    "    \"val\": ridge_cv_model.predict(X_val),\n",
    "    \"test\": ridge_cv_model.predict(X_test)\n",
    "}\n",
    "\n",
    "# Calculate and print performance metrics\n",
    "for key, value in ridge_cv_predictions.items():\n",
    "    mse = mean_squared_error(y_test_flat if key == \"test\" else y_train_flat if key == \"train\" else y_val_flat, value)\n",
    "    rmse = np.sqrt(mse)\n",
    "    r2 = r2_score(y_test_flat if key == \"test\" else y_train_flat if key == \"train\" else y_val_flat, value)\n",
    "    print(f\"RidgeCV - {key.capitalize()} Set - MSE: {mse}, RMSE: {rmse}, R-squared: {r2}\")\n",
    "\n",
    "\n",
    "# y_train_flat에서 첫 번째 열만 사용하여 y_train_single_output 생성\n",
    "y_train_single_output = y_train_flat[:, 0]\n",
    "\n",
    "# Shuffle the data for visualization\n",
    "X_train_reduced, y_train_single_output_reduced = shuffle(X_train, y_train_flat, n_samples=100, random_state=42)\n",
    "\n",
    "# RidgeCV 모델의 예측 결과를 사용하여 시각화\n",
    "plot_original_vs_predicted(X_test, ridge_cv_model.predict(X_test), num_samples=5)\n",
    "\n"
   ]
  },
  {
   "cell_type": "code",
   "execution_count": null,
   "id": "930a4586-3478-40e2-873d-ffa5553bd621",
   "metadata": {},
   "outputs": [],
   "source": []
  },
  {
   "cell_type": "code",
   "execution_count": null,
   "id": "25e547a7-833e-433c-a0c1-4e477bea6713",
   "metadata": {},
   "outputs": [
    {
     "name": "stderr",
     "output_type": "stream",
     "text": [
      "/home/jupyter-choi/.conda/envs/hyeon/lib/python3.9/site-packages/neurokit2/signal/signal_period.py:84: NeuroKitWarning: Too few peaks detected to compute the rate. Returning empty vector.\n",
      "  warn(\n"
     ]
    },
    {
     "name": "stdout",
     "output_type": "stream",
     "text": [
      "Error: cannot convert float NaN to integer\n"
     ]
    },
    {
     "name": "stderr",
     "output_type": "stream",
     "text": [
      "/home/jupyter-choi/.conda/envs/hyeon/lib/python3.9/site-packages/neurokit2/signal/signal_period.py:84: NeuroKitWarning: Too few peaks detected to compute the rate. Returning empty vector.\n",
      "  warn(\n"
     ]
    },
    {
     "name": "stdout",
     "output_type": "stream",
     "text": [
      "Error: integer division or modulo by zero\n"
     ]
    },
    {
     "name": "stderr",
     "output_type": "stream",
     "text": [
      "/home/jupyter-choi/.conda/envs/hyeon/lib/python3.9/site-packages/neurokit2/signal/signal_period.py:84: NeuroKitWarning: Too few peaks detected to compute the rate. Returning empty vector.\n",
      "  warn(\n"
     ]
    },
    {
     "name": "stdout",
     "output_type": "stream",
     "text": [
      "Error: cannot convert float NaN to integer\n"
     ]
    },
    {
     "name": "stderr",
     "output_type": "stream",
     "text": [
      "/home/jupyter-choi/.conda/envs/hyeon/lib/python3.9/site-packages/neurokit2/signal/signal_period.py:84: NeuroKitWarning: Too few peaks detected to compute the rate. Returning empty vector.\n",
      "  warn(\n"
     ]
    },
    {
     "name": "stdout",
     "output_type": "stream",
     "text": [
      "Error: cannot convert float NaN to integer\n"
     ]
    },
    {
     "name": "stderr",
     "output_type": "stream",
     "text": [
      "/home/jupyter-choi/.conda/envs/hyeon/lib/python3.9/site-packages/neurokit2/signal/signal_period.py:84: NeuroKitWarning: Too few peaks detected to compute the rate. Returning empty vector.\n",
      "  warn(\n"
     ]
    },
    {
     "name": "stdout",
     "output_type": "stream",
     "text": [
      "Error: cannot convert float NaN to integer\n"
     ]
    },
    {
     "name": "stderr",
     "output_type": "stream",
     "text": [
      "/home/jupyter-choi/.conda/envs/hyeon/lib/python3.9/site-packages/neurokit2/signal/signal_period.py:84: NeuroKitWarning: Too few peaks detected to compute the rate. Returning empty vector.\n",
      "  warn(\n"
     ]
    },
    {
     "name": "stdout",
     "output_type": "stream",
     "text": [
      "Error: cannot convert float NaN to integer\n"
     ]
    },
    {
     "name": "stderr",
     "output_type": "stream",
     "text": [
      "/home/jupyter-choi/.conda/envs/hyeon/lib/python3.9/site-packages/neurokit2/signal/signal_period.py:84: NeuroKitWarning: Too few peaks detected to compute the rate. Returning empty vector.\n",
      "  warn(\n"
     ]
    },
    {
     "name": "stdout",
     "output_type": "stream",
     "text": [
      "Error: integer division or modulo by zero\n",
      "Error: cannot convert float NaN to integer\n"
     ]
    },
    {
     "name": "stderr",
     "output_type": "stream",
     "text": [
      "/home/jupyter-choi/.conda/envs/hyeon/lib/python3.9/site-packages/neurokit2/signal/signal_period.py:84: NeuroKitWarning: Too few peaks detected to compute the rate. Returning empty vector.\n",
      "  warn(\n"
     ]
    },
    {
     "name": "stdout",
     "output_type": "stream",
     "text": [
      "Skipping file 'wave106393.npy' due to insufficient R peaks.\n"
     ]
    },
    {
     "name": "stderr",
     "output_type": "stream",
     "text": [
      "/home/jupyter-choi/.conda/envs/hyeon/lib/python3.9/site-packages/neurokit2/signal/signal_period.py:84: NeuroKitWarning: Too few peaks detected to compute the rate. Returning empty vector.\n",
      "  warn(\n"
     ]
    },
    {
     "name": "stdout",
     "output_type": "stream",
     "text": [
      "Error: cannot convert float NaN to integer\n",
      "Error: '[5008] not in index'\n",
      "Error: '[5011] not in index'\n",
      "Error: '[5008] not in index'\n",
      "Error: '[5007] not in index'\n"
     ]
    },
    {
     "name": "stderr",
     "output_type": "stream",
     "text": [
      "/home/jupyter-choi/.conda/envs/hyeon/lib/python3.9/site-packages/neurokit2/signal/signal_period.py:84: NeuroKitWarning: Too few peaks detected to compute the rate. Returning empty vector.\n",
      "  warn(\n"
     ]
    },
    {
     "name": "stdout",
     "output_type": "stream",
     "text": [
      "Error: cannot convert float NaN to integer\n",
      "Skipping file 'wave106396.npy' due to insufficient R peaks.\n"
     ]
    },
    {
     "name": "stderr",
     "output_type": "stream",
     "text": [
      "/home/jupyter-choi/.conda/envs/hyeon/lib/python3.9/site-packages/neurokit2/signal/signal_period.py:84: NeuroKitWarning: Too few peaks detected to compute the rate. Returning empty vector.\n",
      "  warn(\n"
     ]
    },
    {
     "name": "stdout",
     "output_type": "stream",
     "text": [
      "Error: integer division or modulo by zero\n"
     ]
    },
    {
     "name": "stderr",
     "output_type": "stream",
     "text": [
      "/home/jupyter-choi/.conda/envs/hyeon/lib/python3.9/site-packages/neurokit2/signal/signal_period.py:84: NeuroKitWarning: Too few peaks detected to compute the rate. Returning empty vector.\n",
      "  warn(\n"
     ]
    },
    {
     "name": "stdout",
     "output_type": "stream",
     "text": [
      "Error: cannot convert float NaN to integer\n"
     ]
    },
    {
     "name": "stderr",
     "output_type": "stream",
     "text": [
      "/home/jupyter-choi/.conda/envs/hyeon/lib/python3.9/site-packages/neurokit2/signal/signal_period.py:84: NeuroKitWarning: Too few peaks detected to compute the rate. Returning empty vector.\n",
      "  warn(\n"
     ]
    },
    {
     "name": "stdout",
     "output_type": "stream",
     "text": [
      "Error: cannot convert float NaN to integer\n"
     ]
    },
    {
     "name": "stderr",
     "output_type": "stream",
     "text": [
      "/home/jupyter-choi/.conda/envs/hyeon/lib/python3.9/site-packages/neurokit2/signal/signal_period.py:84: NeuroKitWarning: Too few peaks detected to compute the rate. Returning empty vector.\n",
      "  warn(\n"
     ]
    },
    {
     "name": "stdout",
     "output_type": "stream",
     "text": [
      "Error: integer division or modulo by zero\n",
      "Skipping file 'wave118589.npy' due to insufficient R peaks.\n"
     ]
    },
    {
     "name": "stderr",
     "output_type": "stream",
     "text": [
      "/home/jupyter-choi/.conda/envs/hyeon/lib/python3.9/site-packages/neurokit2/signal/signal_period.py:84: NeuroKitWarning: Too few peaks detected to compute the rate. Returning empty vector.\n",
      "  warn(\n"
     ]
    },
    {
     "name": "stdout",
     "output_type": "stream",
     "text": [
      "Error: integer division or modulo by zero\n"
     ]
    },
    {
     "name": "stderr",
     "output_type": "stream",
     "text": [
      "/home/jupyter-choi/.conda/envs/hyeon/lib/python3.9/site-packages/neurokit2/signal/signal_period.py:84: NeuroKitWarning: Too few peaks detected to compute the rate. Returning empty vector.\n",
      "  warn(\n"
     ]
    },
    {
     "name": "stdout",
     "output_type": "stream",
     "text": [
      "Error: cannot convert float NaN to integer\n"
     ]
    },
    {
     "name": "stderr",
     "output_type": "stream",
     "text": [
      "/home/jupyter-choi/.conda/envs/hyeon/lib/python3.9/site-packages/neurokit2/signal/signal_period.py:84: NeuroKitWarning: Too few peaks detected to compute the rate. Returning empty vector.\n",
      "  warn(\n"
     ]
    },
    {
     "name": "stdout",
     "output_type": "stream",
     "text": [
      "Error: cannot convert float NaN to integer\n",
      "Skipping file 'wave106391.npy' due to insufficient R peaks.\n"
     ]
    },
    {
     "name": "stderr",
     "output_type": "stream",
     "text": [
      "/home/jupyter-choi/.conda/envs/hyeon/lib/python3.9/site-packages/neurokit2/signal/signal_period.py:84: NeuroKitWarning: Too few peaks detected to compute the rate. Returning empty vector.\n",
      "  warn(\n"
     ]
    },
    {
     "name": "stdout",
     "output_type": "stream",
     "text": [
      "Error: cannot convert float NaN to integer\n"
     ]
    }
   ],
   "source": [
    "# RR간격이 짧으면 스킵함\n",
    "\n",
    "import numpy as np\n",
    "import os\n",
    "import matplotlib.pyplot as plt\n",
    "import neurokit2 as nk\n",
    "from sklearn.utils import shuffle\n",
    "from sklearn.linear_model import RidgeCV\n",
    "from sklearn.metrics import mean_squared_error, r2_score\n",
    "from sklearn.model_selection import train_test_split\n",
    "\n",
    "def load_npy_data(folder_path):\n",
    "    X_list, y_list = [], []\n",
    "    processed_files = set()\n",
    "    skipped_files = []\n",
    "\n",
    "    for file_name in os.listdir(folder_path):\n",
    "        if file_name.startswith('wave') and file_name.endswith('.npy') and file_name not in processed_files:\n",
    "            file_path = os.path.join(folder_path, file_name)\n",
    "            data = np.load(file_path)\n",
    "            processed_files.add(file_name)\n",
    "\n",
    "            if data.shape == (13, 5000):\n",
    "                data = data[:12, :]\n",
    "                signal = data[0, :]\n",
    "                sr = 500\n",
    "                \n",
    "                # Check for NaN values in the signal\n",
    "                if np.isnan(signal).any():\n",
    "                    continue\n",
    "\n",
    "                # ECG 신호 전처리\n",
    "                signal = signal.reshape(-1,)\n",
    "                signal = nk.ecg_clean(signal, sr, method='neurokit')\n",
    "                \n",
    "                try:\n",
    "                    _, rpeaks = nk.ecg_peaks(signal, sampling_rate=sr)\n",
    "\n",
    "                    # R 피크가 충분한지 확인\n",
    "                    if len(rpeaks['ECG_R_Peaks']) < 2:\n",
    "                        print(f\"Skipping file '{file_name}' due to insufficient R peaks.\")\n",
    "                        continue\n",
    "\n",
    "                    # PQRS 파형과 심박수 추출\n",
    "                    p_peaks, q_peaks, r_peaks, s_peaks, t_peaks, hr = find_pqrst_and_calculate_hr(signal, sr)\n",
    "\n",
    "                    # 추출된 특성을 데이터셋에 추가\n",
    "                    features = np.concatenate([signal, p_peaks, q_peaks, r_peaks, s_peaks, t_peaks, [hr]])\n",
    "                    X_list.append(features)\n",
    "                    y_list.append(data[1, :])  # 1번 특성을 출력으로 사용\n",
    "\n",
    "                except Exception as e:\n",
    "                    print(f\"Error processing file '{file_name}': {e}\")\n",
    "                    continue  # 오류가 발생한 파일을 스킵하고 다음 파일로 이동\n",
    "\n",
    "    print(f\"Skipped {len(skipped_files)} files due to errors: {skipped_files}\")\n",
    "    return np.array(X_list), np.array(y_list)\n",
    "\n",
    "def plot_original_vs_predicted(original, predicted, num_samples=5, sampling_rate=250):\n",
    "    plt.figure(figsize=(20, 10))\n",
    "    for i in range(min(num_samples, len(original))):\n",
    "        cleaned_original = nk.ecg_clean(original[i], sampling_rate=sampling_rate, method='neurokit')\n",
    "        cleaned_predicted = nk.ecg_clean(predicted[i], sampling_rate=sampling_rate, method='neurokit')\n",
    "\n",
    "        plt.subplot(num_samples, 2, 2*i + 1)\n",
    "        plt.plot(cleaned_original, label=\"Original\")\n",
    "        plt.title(f\"Original 2nd Feature Sample {i+1}\")\n",
    "        plt.legend()\n",
    "\n",
    "        plt.subplot(num_samples, 2, 2*i + 2)\n",
    "        plt.plot(cleaned_predicted, label=\"Predicted\")\n",
    "        plt.title(f\"Predicted 3rd Feature Sample {i+1}\")\n",
    "        plt.legend()\n",
    "\n",
    "    plt.tight_layout()\n",
    "    plt.show()\n",
    "\n",
    "\n",
    "def calculate_rr_intervals(r_peaks, sr):\n",
    "    rr_intervals = np.diff(r_peaks) / sr  # R 피크 간의 시간 간격을 초 단위로 계산\n",
    "    return rr_intervals\n",
    "\n",
    "def find_pqrst_and_calculate_hr(signal, sr):\n",
    "    try:\n",
    "        signals = signal.reshape(-1,)\n",
    "        signals = nk.ecg_clean(signals, sr, method='neurokit')\n",
    "        _, rpeaks = nk.ecg_peaks(signals, sampling_rate=sr)\n",
    "        _, waves_peak = nk.ecg_delineate(signals, rpeaks, sampling_rate=sr, method='peak')\n",
    "\n",
    "        r_peaks = np.array(rpeaks['ECG_R_Peaks'])\n",
    "        r_peaks = r_peaks[~np.isnan(r_peaks)].astype('int')\n",
    "\n",
    "        # p_peaks, q_peaks, s_peaks, t_peaks 정의\n",
    "        p_peaks = np.array(waves_peak['ECG_P_Peaks'])\n",
    "        q_peaks = np.array(waves_peak['ECG_Q_Peaks'])\n",
    "        s_peaks = np.array(waves_peak['ECG_S_Peaks'])\n",
    "        t_peaks = np.array(waves_peak['ECG_T_Peaks'])\n",
    "\n",
    "        # NaN 값 필터링\n",
    "        p_peaks = p_peaks[~np.isnan(p_peaks)].astype('int')\n",
    "        q_peaks = q_peaks[~np.isnan(q_peaks)].astype('int')\n",
    "        s_peaks = s_peaks[~np.isnan(s_peaks)].astype('int')\n",
    "        t_peaks = t_peaks[~np.isnan(t_peaks)].astype('int')\n",
    "\n",
    "        if len(r_peaks) < 2:\n",
    "            return [], [], [], [], [], np.nan\n",
    "\n",
    "        # RR 간격 계산\n",
    "        rr_intervals = calculate_rr_intervals(r_peaks, sr)\n",
    "        if len(rr_intervals) == 0 or np.mean(rr_intervals) == 0:\n",
    "            return [], [], [], [], [], np.nan\n",
    "\n",
    "        hr = 60 / np.mean(rr_intervals)\n",
    "        return p_peaks, q_peaks, r_peaks, s_peaks, t_peaks, hr\n",
    "\n",
    "    except Exception as e:\n",
    "        print(f\"Error: {e}\")\n",
    "        return [], [], [], [], [], np.nan\n",
    "\n",
    "# 데이터 폴더 경로\n",
    "folder_path = \"hw/data_No20000_ALL/data\"\n",
    "\n",
    "# ECG 데이터 로드\n",
    "X, y = load_npy_data(folder_path)\n",
    "\n",
    "# Split the data into training, validation, and test sets\n",
    "X_train, X_temp, y_train, y_temp = train_test_split(X, y, test_size=0.2, random_state=42)\n",
    "X_val, X_test, y_val, y_test = train_test_split(X_temp, y_temp, test_size=0.5, random_state=42)\n",
    "\n",
    "# Flatten the target data\n",
    "y_train_flat, y_val_flat, y_test_flat = y_train[:, 0], y_val[:, 0], y_test[:, 0]\n",
    "\n",
    "# Define alpha values for RidgeCV\n",
    "alpha_values = [0.1, 1, 10, 100, 1000, 10000, 100000, 10000000, 10000000000, 10000000000, 1000000000000, 100000000000000]\n",
    "\n",
    "# y_train_flat에서 첫 번째 열을 사용할 필요가 없으므로, y_train_flat 자체를 사용\n",
    "y_train_single_output = y_train_flat\n",
    "\n",
    "# Train the RidgeCV model\n",
    "ridge_cv_model = RidgeCV(alphas=alpha_values)\n",
    "ridge_cv_model.fit(X_train, y_train_single_output)  # Now y_train_single_output is defined\n",
    "\n",
    "# Make predictions on training, validation, and test sets\n",
    "ridge_cv_predictions = {\n",
    "    \"train\": ridge_cv_model.predict(X_train),\n",
    "    \"val\": ridge_cv_model.predict(X_val),\n",
    "    \"test\": ridge_cv_model.predict(X_test)\n",
    "}\n",
    "\n",
    "# Calculate and print performance metrics\n",
    "for key, value in ridge_cv_predictions.items():\n",
    "    mse = mean_squared_error(y_test_flat if key == \"test\" else y_train_flat if key == \"train\" else y_val_flat, value)\n",
    "    rmse = np.sqrt(mse)\n",
    "    r2 = r2_score(y_test_flat if key == \"test\" else y_train_flat if key == \"train\" else y_val_flat, value)\n",
    "    print(f\"RidgeCV - {key.capitalize()} Set - MSE: {mse}, RMSE: {rmse}, R-squared: {r2}\")\n",
    "\n",
    "\n",
    "\n",
    "# y_train_flat에서 첫 번째 열만 사용하여 y_train_single_output 생성\n",
    "y_train_single_output = y_train_flat[:, 0]\n",
    "\n",
    "# Shuffle the data for visualization\n",
    "X_train_reduced, y_train_single_output_reduced = shuffle(X_train, y_train_flat, n_samples=100, random_state=42)\n",
    "\n",
    "# RidgeCV 모델의 예측 결과를 사용하여 시각화\n",
    "plot_original_vs_predicted(X_test, ridge_cv_model.predict(X_test), num_samples=5)\n",
    "\n"
   ]
  },
  {
   "cell_type": "code",
   "execution_count": 1,
   "id": "a34044fa-ad58-45d3-a52f-636acffceb01",
   "metadata": {},
   "outputs": [
    {
     "ename": "NameError",
     "evalue": "name 'x_list' is not defined",
     "output_type": "error",
     "traceback": [
      "\u001b[0;31m---------------------------------------------------------------------------\u001b[0m",
      "\u001b[0;31mNameError\u001b[0m                                 Traceback (most recent call last)",
      "Cell \u001b[0;32mIn[1], line 1\u001b[0m\n\u001b[0;32m----> 1\u001b[0m \u001b[38;5;28mprint\u001b[39m(\u001b[43mx_list\u001b[49m)\n",
      "\u001b[0;31mNameError\u001b[0m: name 'x_list' is not defined"
     ]
    }
   ],
   "source": [
    "print(x_list)"
   ]
  },
  {
   "cell_type": "code",
   "execution_count": null,
   "id": "2cb4d007-151d-4522-87e2-1d3c8ca4566c",
   "metadata": {},
   "outputs": [],
   "source": []
  },
  {
   "cell_type": "code",
   "execution_count": 15,
   "id": "0486b909-7cc9-4f85-96b9-cf1432065007",
   "metadata": {},
   "outputs": [
    {
     "name": "stdout",
     "output_type": "stream",
     "text": [
      "P 피크: [1730 2160 3070 3511 3795 3962]\n",
      "Q 피크: [1736 2166 3079 3517 3825 3977 4410]\n",
      "R 피크: [ 265  446  708  889 1155 1337 1603 1779 2047 2224 2496 2949 3130 3395\n",
      " 3570 3846 4027 4303 4484 4758 4940]\n",
      "S 피크: [ 518  931 1371 1624 1833 2268 3206 3635 4082 4525]\n",
      "T 피크: [ 548  999 1440 1666 1886 2330 3234 3671 4128 4585]\n",
      "심박수 (HR): 64.17112299465239\n"
     ]
    }
   ],
   "source": [
    "import numpy as np\n",
    "import os\n",
    "import matplotlib.pyplot as plt\n",
    "import neurokit2 as nk\n",
    "\n",
    "# ECG 데이터를 로드하는 함수 정의\n",
    "def load_npy_data(folder_path):\n",
    "    X_list, y_list = [], []\n",
    "    processed_files = set()\n",
    "\n",
    "    for file_name in os.listdir(folder_path):\n",
    "        if file_name.startswith('wave') and file_name.endswith('.npy') and file_name not in processed_files:\n",
    "            file_path = os.path.join(folder_path, file_name)\n",
    "            data = np.load(file_path)\n",
    "            processed_files.add(file_name)\n",
    "\n",
    "            if data.shape == (13, 5000):\n",
    "                data = data[:12, :]\n",
    "                X_list.append(data[0, :])  # 0번 특성을 입력으로 사용\n",
    "                y_list.append(data[1, :])  # 1번 특성을 출력으로 사용\n",
    "\n",
    "    return np.array(X_list), np.array(y_list)\n",
    "\n",
    "def calculate_rr_intervals(r_peaks, sr):\n",
    "    rr_intervals = np.diff(r_peaks) / sr  # R 피크 간의 시간 간격을 초 단위로 계산\n",
    "    return rr_intervals\n",
    "\n",
    "def find_pqrst_and_calculate_hr(signal, sr):\n",
    "    try:\n",
    "        signals = signal.reshape(-1,)\n",
    "        signals = nk.ecg_clean(signals, sr, method='neurokit')\n",
    "        _, rpeaks = nk.ecg_peaks(signals, sampling_rate=sr)\n",
    "        _, waves_peak = nk.ecg_delineate(signals, rpeaks, sampling_rate=sr, method='peak')\n",
    "\n",
    "        r_peaks = np.array(rpeaks['ECG_R_Peaks'])\n",
    "        r_peaks = r_peaks[~np.isnan(r_peaks)].astype('int')\n",
    "\n",
    "        # p_peaks, q_peaks, s_peaks, t_peaks 정의\n",
    "        p_peaks = np.array(waves_peak['ECG_P_Peaks'])\n",
    "        q_peaks = np.array(waves_peak['ECG_Q_Peaks'])\n",
    "        s_peaks = np.array(waves_peak['ECG_S_Peaks'])\n",
    "        t_peaks = np.array(waves_peak['ECG_T_Peaks'])\n",
    "\n",
    "        # NaN 값 필터링\n",
    "        p_peaks = p_peaks[~np.isnan(p_peaks)].astype('int')\n",
    "        q_peaks = q_peaks[~np.isnan(q_peaks)].astype('int')\n",
    "        s_peaks = s_peaks[~np.isnan(s_peaks)].astype('int')\n",
    "        t_peaks = t_peaks[~np.isnan(t_peaks)].astype('int')\n",
    "\n",
    "        if len(r_peaks) < 2:\n",
    "            return [], [], [], [], [], np.nan\n",
    "\n",
    "        # RR 간격 계산\n",
    "        rr_intervals = calculate_rr_intervals(r_peaks, sr)\n",
    "        if len(rr_intervals) == 0 or np.mean(rr_intervals) == 0:\n",
    "            return [], [], [], [], [], np.nan\n",
    "\n",
    "        hr = 60 / np.mean(rr_intervals)\n",
    "        return p_peaks, q_peaks, r_peaks, s_peaks, t_peaks, hr\n",
    "\n",
    "    except Exception as e:\n",
    "        print(f\"Error: {e}\")\n",
    "        return [], [], [], [], [], np.nan\n",
    "\n",
    "\n",
    "\n",
    "# 데이터 폴더 경로\n",
    "folder_path = \"hw/data_No20000_ALL/data\"\n",
    "\n",
    "# ECG 데이터 로드\n",
    "X, y = load_npy_data(folder_path)\n",
    "\n",
    "# ECG 신호 선택 (예: 첫 번째 신호)\n",
    "signal = X[0]  # 이 부분을 선택하거나 원하는 ECG 신호로 변경\n",
    "\n",
    "# 샘플링 속도 설정\n",
    "sr = 250  # 예: 250 샘플링 속도\n",
    "\n",
    "# ECG 신호 분석\n",
    "signals = signal.reshape(-1,)\n",
    "signals = nk.ecg_clean(signals, sr, method='neurokit')\n",
    "_, rpeaks = nk.ecg_peaks(signals, sampling_rate=sr)\n",
    "_, waves_peak = nk.ecg_delineate(signals, rpeaks, sampling_rate=sr, method='peak')\n",
    "\n",
    "# find_pqrst_and_calculate_hr 함수 호출\n",
    "p_peaks, q_peaks, r_peaks, s_peaks, t_peaks, hr = find_pqrst_and_calculate_hr(signal, sr)\n",
    "\n",
    "# 결과 출력\n",
    "print(\"P 피크:\", p_peaks)\n",
    "print(\"Q 피크:\", q_peaks)\n",
    "print(\"R 피크:\", r_peaks)\n",
    "print(\"S 피크:\", s_peaks)\n",
    "print(\"T 피크:\", t_peaks)\n",
    "print(\"심박수 (HR):\", hr)"
   ]
  },
  {
   "cell_type": "code",
   "execution_count": null,
   "id": "b1a0b553-35b2-4840-b7dc-59a2081c1cbb",
   "metadata": {},
   "outputs": [],
   "source": [
    "# ECG 신호 선택 (예: 첫 번째 신호)\n",
    "signal = X[1]  # 이 부분을 선택하거나 원하는 ECG 신호로 변경\n",
    "\n",
    "# 샘플링 속도 설정\n",
    "sr = 500 \n",
    "\n",
    "# ECG 신호 분석\n",
    "signals = signal.reshape(-1,)\n",
    "signals = nk.ecg_clean(signals, sr, method='neurokit')\n",
    "_, rpeaks = nk.ecg_peaks(signals, sampling_rate=sr)\n",
    "_, waves_peak = nk.ecg_delineate(signals, rpeaks, sampling_rate=sr, method='peak')\n",
    "\n",
    "# find_pqrst_and_calculate_hr 함수 호출\n",
    "p_peaks, q_peaks, r_peaks, s_peaks, t_peaks, hr = find_pqrst_and_calculate_hr(signal, sr)\n",
    "\n",
    "# RR 간격 계산\n",
    "rr_intervals = calculate_rr_intervals(r_peaks, sr)\n",
    "\n",
    "# 결과 출력\n",
    "print(\"P 피크:\", p_peaks)\n",
    "print(\"Q 피크:\", q_peaks)\n",
    "print(\"R 피크:\", r_peaks)\n",
    "print(\"S 피크:\", s_peaks)\n",
    "print(\"T 피크:\", t_peaks)\n",
    "print(\"심박수 (HR):\", hr)\n",
    "print(\"RR 간격:\", rr_intervals)\n"
   ]
  },
  {
   "cell_type": "code",
   "execution_count": 8,
   "id": "f04c8e34-7717-40ae-a7bc-083cdc1f9474",
   "metadata": {},
   "outputs": [
    {
     "name": "stderr",
     "output_type": "stream",
     "text": [
      "/home/jupyter-choi/.conda/envs/hyeon/lib/python3.9/site-packages/IPython/core/pylabtools.py:152: UserWarning: Glyph 49888 (\\N{HANGUL SYLLABLE SIN}) missing from current font.\n",
      "  fig.canvas.print_figure(bytes_io, **kw)\n",
      "/home/jupyter-choi/.conda/envs/hyeon/lib/python3.9/site-packages/IPython/core/pylabtools.py:152: UserWarning: Glyph 54840 (\\N{HANGUL SYLLABLE HO}) missing from current font.\n",
      "  fig.canvas.print_figure(bytes_io, **kw)\n"
     ]
    },
    {
     "data": {
      "image/png": "[encoded data removed]",
      "text/plain": [
       "<Figure size 1200x600 with 1 Axes>"
      ]
     },
     "metadata": {},
     "output_type": "display_data"
    }
   ],
   "source": [
    "# ECG 신호와 피크 시각화\n",
    "plt.figure(figsize=(12, 6))\n",
    "plt.plot(signals, label='ECG 신호', color='blue')\n",
    "plt.scatter(p_peaks, signals[p_peaks], label='P ', color='green', marker='o', s=50)\n",
    "plt.scatter(q_peaks, signals[q_peaks], label='Q ', color='red', marker='o', s=50)\n",
    "plt.scatter(r_peaks, signals[r_peaks], label='R ', color='purple', marker='o', s=50)\n",
    "plt.scatter(s_peaks, signals[s_peaks], label='S ', color='orange', marker='o', s=50)\n",
    "plt.scatter(t_peaks, signals[t_peaks], label='T ', color='brown', marker='o', s=50)\n",
    "plt.xlabel('Sample Number')\n",
    "plt.ylabel('ECG ')\n",
    "plt.title('ECG PQRST ')\n",
    "plt.legend()\n",
    "plt.grid(True)\n",
    "plt.show()\n"
   ]
  },
  {
   "cell_type": "code",
   "execution_count": null,
   "id": "2c4c4a06-8e10-40cb-82ea-4a9024716d3a",
   "metadata": {},
   "outputs": [],
   "source": [
    "X_train, X_temp, y_train, y_temp = train_test_split(X, y, test_size=0.2, random_state=42)\n",
    "X_val, X_test, y_val, y_test = train_test_split(X_temp, y_temp, test_size=0.5, random_state=42)\n",
    "y_train_flat, y_val_flat, y_test_flat = flatten_data(y_train), flatten_data(y_val), flatten_data(y_test)\n",
    "\n",
    "alpha_values = [0.1, 1, 10, 100, 1000, 10000, 100000, 10000000, 10000000000, 10000000000, 1000000000000, 100000000000000]\n",
    "ridge_cv_model = RidgeCV(alphas=alpha_values, store_cv_values=True)\n",
    "ridge_cv_model.fit(X_train, y_train_flat)\n",
    "best_alpha = ridge_cv_model.alpha_\n",
    "print(f\"Best alpha value: {best_alpha}\")\n",
    "\n",
    "ridge_cv_predictions = { \"train\": ridge_cv_model.predict(X_train), \"val\": ridge_cv_model.predict(X_val), \"test\": ridge_cv_model.predict(X_test) }\n",
    "for key, value in ridge_cv_predictions.items():\n",
    "    mse, rmse, r2 = calculate_performance_metrics(flatten_data(y_test if key == \"test\" else y_train if key == \"train\" else y_val), value)\n",
    "    print(f\"RidgeCV - {key.capitalize()} Set - MSE: {mse}, RMSE: {rmse}, R-squared: {r2}\")\n",
    "\n",
    "from sklearn.utils import shuffle\n",
    "\n",
    "# y_train_flat에서 첫 번째 열만 사용하여 y_train_single_output 생성\n",
    "y_train_single_output = y_train_flat[:, 0]\n",
    "\n",
    "# 데이터 세트 크기를 줄임\n",
    "X_train_reduced, y_train_single_output_reduced = shuffle(X_train, y_train_single_output, n_samples=100, random_state=42)\n",
    "\n",
    "# RidgeCV 모델의 예측 결과를 사용하여 시각화\n",
    "plot_original_vs_predicted(X_test, ridge_cv_predictions[\"test\"], num_samples=5)"
   ]
  },
  {
   "cell_type": "code",
   "execution_count": null,
   "id": "275a2f94-60d8-442e-981c-f28f8411a383",
   "metadata": {},
   "outputs": [],
   "source": []
  },
  {
   "cell_type": "code",
   "execution_count": 16,
   "id": "3f3585fb-0288-48c9-9c31-0b1efb698414",
   "metadata": {},
   "outputs": [
    {
     "ename": "IndexError",
     "evalue": "arrays used as indices must be of integer (or boolean) type",
     "output_type": "error",
     "traceback": [
      "\u001b[0;31m---------------------------------------------------------------------------\u001b[0m",
      "\u001b[0;31mIndexError\u001b[0m                                Traceback (most recent call last)",
      "Cell \u001b[0;32mIn[16], line 88\u001b[0m\n\u001b[1;32m     83\u001b[0m     t_peaks_processed \u001b[38;5;241m=\u001b[39m np\u001b[38;5;241m.\u001b[39mzeros(\u001b[38;5;28mlen\u001b[39m(signals))\n\u001b[1;32m     87\u001b[0m \u001b[38;5;66;03m# 데이터셋 생성\u001b[39;00m\n\u001b[0;32m---> 88\u001b[0m X_processed \u001b[38;5;241m=\u001b[39m \u001b[43mcreate_dataset\u001b[49m\u001b[43m(\u001b[49m\u001b[43mX\u001b[49m\u001b[43m,\u001b[49m\u001b[43m \u001b[49m\u001b[43m[\u001b[49m\u001b[43mp_peaks_processed\u001b[49m\u001b[43m,\u001b[49m\u001b[43m \u001b[49m\u001b[43mq_peaks_processed\u001b[49m\u001b[43m,\u001b[49m\u001b[43m \u001b[49m\u001b[43mr_peaks_processed\u001b[49m\u001b[43m,\u001b[49m\u001b[43m \u001b[49m\u001b[43ms_peaks_processed\u001b[49m\u001b[43m,\u001b[49m\u001b[43m \u001b[49m\u001b[43mt_peaks_processed\u001b[49m\u001b[43m]\u001b[49m\u001b[43m,\u001b[49m\u001b[43m \u001b[49m\u001b[38;5;28;43mlen\u001b[39;49m\u001b[43m(\u001b[49m\u001b[43msignals\u001b[49m\u001b[43m)\u001b[49m\u001b[43m)\u001b[49m\n\u001b[1;32m     91\u001b[0m \u001b[38;5;66;03m# 데이터 분할\u001b[39;00m\n\u001b[1;32m     92\u001b[0m X_train, X_temp, y_train, y_temp \u001b[38;5;241m=\u001b[39m train_test_split(X_processed, y, test_size\u001b[38;5;241m=\u001b[39m\u001b[38;5;241m0.2\u001b[39m, random_state\u001b[38;5;241m=\u001b[39m\u001b[38;5;241m42\u001b[39m)\n",
      "Cell \u001b[0;32mIn[16], line 38\u001b[0m, in \u001b[0;36mcreate_dataset\u001b[0;34m(X, peaks, signal_length)\u001b[0m\n\u001b[1;32m     36\u001b[0m X_processed \u001b[38;5;241m=\u001b[39m []\n\u001b[1;32m     37\u001b[0m \u001b[38;5;28;01mfor\u001b[39;00m i \u001b[38;5;129;01min\u001b[39;00m \u001b[38;5;28mrange\u001b[39m(\u001b[38;5;28mlen\u001b[39m(X)):\n\u001b[0;32m---> 38\u001b[0m     peaks_processed \u001b[38;5;241m=\u001b[39m \u001b[43mpreprocess_peaks\u001b[49m\u001b[43m(\u001b[49m\u001b[43mpeaks\u001b[49m\u001b[43m[\u001b[49m\u001b[43mi\u001b[49m\u001b[43m]\u001b[49m\u001b[43m,\u001b[49m\u001b[43m \u001b[49m\u001b[43msignal_length\u001b[49m\u001b[43m)\u001b[49m\n\u001b[1;32m     39\u001b[0m     X_processed\u001b[38;5;241m.\u001b[39mappend(np\u001b[38;5;241m.\u001b[39mconcatenate([X[i], peaks_processed]))\n\u001b[1;32m     40\u001b[0m \u001b[38;5;28;01mreturn\u001b[39;00m np\u001b[38;5;241m.\u001b[39marray(X_processed)\n",
      "Cell \u001b[0;32mIn[16], line 31\u001b[0m, in \u001b[0;36mpreprocess_peaks\u001b[0;34m(peaks, signal_length)\u001b[0m\n\u001b[1;32m     29\u001b[0m \u001b[38;5;28;01mdef\u001b[39;00m \u001b[38;5;21mpreprocess_peaks\u001b[39m(peaks, signal_length):\n\u001b[1;32m     30\u001b[0m     processed_peaks \u001b[38;5;241m=\u001b[39m np\u001b[38;5;241m.\u001b[39mzeros(signal_length)\n\u001b[0;32m---> 31\u001b[0m     \u001b[43mprocessed_peaks\u001b[49m\u001b[43m[\u001b[49m\u001b[43mpeaks\u001b[49m\u001b[43m]\u001b[49m \u001b[38;5;241m=\u001b[39m \u001b[38;5;241m1\u001b[39m\n\u001b[1;32m     32\u001b[0m     \u001b[38;5;28;01mreturn\u001b[39;00m processed_peaks\n",
      "\u001b[0;31mIndexError\u001b[0m: arrays used as indices must be of integer (or boolean) type"
     ]
    }
   ],
   "source": [
    "import numpy as np\n",
    "import os\n",
    "import matplotlib.pyplot as plt\n",
    "import neurokit2 as nk\n",
    "from sklearn.model_selection import train_test_split\n",
    "from sklearn.linear_model import RidgeCV\n",
    "from sklearn.metrics import mean_squared_error, mean_absolute_error, r2_score\n",
    "from sklearn.utils import shuffle\n",
    "\n",
    "# ECG 데이터를 로드하는 함수 정의\n",
    "def load_npy_data(folder_path):\n",
    "    X_list, y_list = [], []\n",
    "    processed_files = set()\n",
    "\n",
    "    for file_name in os.listdir(folder_path):\n",
    "        if file_name.startswith('wave') and file_name.endswith('.npy') and file_name not in processed_files:\n",
    "            file_path = os.path.join(folder_path, file_name)\n",
    "            data = np.load(file_path)\n",
    "            processed_files.add(file_name)\n",
    "\n",
    "            if data.shape == (13, 5000):\n",
    "                data = data[:12, :]\n",
    "                X_list.append(data[0, :])  # 0번 특성을 입력으로 사용\n",
    "                y_list.append(data[1:, :])  # P, Q, R, S, T 피크 정보를 출력으로 사용\n",
    "\n",
    "    return np.array(X_list), np.array(y_list)\n",
    "\n",
    "# 피크 정보를 전처리하는 함수 정의\n",
    "def preprocess_peaks(peaks, signal_length):\n",
    "    processed_peaks = np.zeros(signal_length)\n",
    "    processed_peaks[peaks] = 1\n",
    "    return processed_peaks\n",
    "\n",
    "# ECG 신호와 피크 정보를 사용하여 데이터셋을 생성하는 함수 정의\n",
    "def create_dataset(X, peaks, signal_length):\n",
    "    X_processed = []\n",
    "    for i in range(len(X)):\n",
    "        peaks_processed = preprocess_peaks(peaks[i], signal_length)\n",
    "        X_processed.append(np.concatenate([X[i], peaks_processed]))\n",
    "    return np.array(X_processed)\n",
    "\n",
    "# 데이터 폴더 경로\n",
    "folder_path = \"hw/data_No20000_ALL/data\"\n",
    "\n",
    "# ECG 데이터 로드\n",
    "X, y = load_npy_data(folder_path)\n",
    "\n",
    "# ECG 신호 선택 (예: 첫 번째 신호)\n",
    "signal = X[0]  # 이 부분을 선택하거나 원하는 ECG 신호로 변경\n",
    "\n",
    "# 샘플링 속도 설정\n",
    "sr = 250 \n",
    "\n",
    "# ECG 신호 분석\n",
    "signals = signal.reshape(-1,)\n",
    "signals = nk.ecg_clean(signals, sr, method='neurokit')\n",
    "_, rpeaks = nk.ecg_peaks(signals, sampling_rate=sr)\n",
    "\n",
    "# P, Q, R, S, T 피크 정보 전처리\n",
    "if 'ECG_P_Peaks' in rpeaks:\n",
    "    p_peaks_processed = preprocess_peaks(rpeaks['ECG_P_Peaks'].astype(int), len(signals))\n",
    "else:\n",
    "    p_peaks_processed = np.zeros(len(signals))\n",
    "\n",
    "if 'ECG_Q_Peaks' in rpeaks:\n",
    "    q_peaks_processed = preprocess_peaks(rpeaks['ECG_Q_Peaks'].astype(int), len(signals))\n",
    "else:\n",
    "    q_peaks_processed = np.zeros(len(signals))\n",
    "\n",
    "if 'ECG_R_Peaks' in rpeaks:\n",
    "    r_peaks_processed = preprocess_peaks(rpeaks['ECG_R_Peaks'].astype(int), len(signals))\n",
    "else:\n",
    "    r_peaks_processed = np.zeros(len(signals))\n",
    "\n",
    "if 'ECG_S_Peaks' in rpeaks:\n",
    "    s_peaks_processed = preprocess_peaks(rpeaks['ECG_S_Peaks'].astype(int), len(signals))\n",
    "else:\n",
    "    s_peaks_processed = np.zeros(len(signals))\n",
    "\n",
    "if 'ECG_T_Peaks' in rpeaks:\n",
    "    t_peaks_processed = preprocess_peaks(rpeaks['ECG_T_Peaks'].astype(int), len(signals))\n",
    "else:\n",
    "    t_peaks_processed = np.zeros(len(signals))\n",
    "\n",
    "# 데이터셋 생성\n",
    "X_processed = create_dataset(X, [p_peaks_processed, q_peaks_processed, r_peaks_processed, s_peaks_processed, t_peaks_processed], len(signals))\n",
    "\n",
    "\n",
    "# 데이터 분할\n",
    "X_train, X_temp, y_train, y_temp = train_test_split(X_processed, y, test_size=0.2, random_state=42)\n",
    "X_val, X_test, y_val, y_test = train_test_split(X_temp, y_temp, test_size=0.5, random_state=42)\n",
    "\n",
    "# RidgeCV 모델 학습\n",
    "alpha_values = [0.1, 1, 10, 100, 1000, 10000, 100000, 10000000, 10000000000, 10000000000, 1000000000000, 100000000000000]\n",
    "ridge_cv_model = RidgeCV(alphas=alpha_values, store_cv_values=True)\n",
    "ridge_cv_model.fit(X_train, y_train)\n",
    "\n",
    "# 평가 및 결과 출력\n",
    "y_pred_train = ridge_cv_model.predict(X_train)\n",
    "y_pred_val = ridge_cv_model.predict(X_val)\n",
    "y_pred_test = ridge_cv_model.predict(X_test)\n",
    "\n",
    "print(\"Train MSE:\", mean_squared_error(y_train, y_pred_train))\n",
    "print(\"Val MSE:\", mean_squared_error(y_val, y_pred_val))\n",
    "print(\"Test MSE:\", mean_squared_error(y_test, y_pred_test))\n",
    "print(\"Train MAE:\", mean_absolute_error(y_train, y_pred_train))\n",
    "print(\"Val MAE:\", mean_absolute_error(y_val, y_pred_val))\n",
    "print(\"Test MAE:\", mean_absolute_error(y_test, y_pred_test))\n",
    "print(\"Train R-squared:\", r2_score(y_train, y_pred_train))\n",
    "print(\"Val R-squared:\", r2_score(y_val, y_pred_val))\n",
    "print(\"Test R-squared:\", r2_score(y_test, y_pred_test))\n"
   ]
  }
 ],
 "metadata": {
  "kernelspec": {
   "display_name": "pt20_py310",
   "language": "python",
   "name": "pt20_py310"
  },
  "language_info": {
   "codemirror_mode": {
    "name": "ipython",
    "version": 3
   },
   "file_extension": ".py",
   "mimetype": "text/x-python",
   "name": "python",
   "nbconvert_exporter": "python",
   "pygments_lexer": "ipython3",
   "version": "3.10.13"
  }
 },
 "nbformat": 4,
 "nbformat_minor": 5
}
